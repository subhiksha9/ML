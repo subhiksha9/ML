{
 "cells": [
  {
   "cell_type": "code",
   "execution_count": 13,
   "id": "7ba1dd03",
   "metadata": {},
   "outputs": [],
   "source": [
    "import pandas as pd\n",
    "from sklearn.model_selection import train_test_split\n",
    "from sklearn.naive_bayes import MultinomialNB\n",
    "from sklearn import metrics\n",
    "from sklearn.feature_extraction.text import CountVectorizer"
   ]
  },
  {
   "cell_type": "code",
   "execution_count": 14,
   "id": "6eadc3da",
   "metadata": {},
   "outputs": [
    {
     "data": {
      "text/html": [
       "<div>\n",
       "<style scoped>\n",
       "    .dataframe tbody tr th:only-of-type {\n",
       "        vertical-align: middle;\n",
       "    }\n",
       "\n",
       "    .dataframe tbody tr th {\n",
       "        vertical-align: top;\n",
       "    }\n",
       "\n",
       "    .dataframe thead th {\n",
       "        text-align: right;\n",
       "    }\n",
       "</style>\n",
       "<table border=\"1\" class=\"dataframe\">\n",
       "  <thead>\n",
       "    <tr style=\"text-align: right;\">\n",
       "      <th></th>\n",
       "      <th>message</th>\n",
       "      <th>label</th>\n",
       "    </tr>\n",
       "  </thead>\n",
       "  <tbody>\n",
       "    <tr>\n",
       "      <th>0</th>\n",
       "      <td>I love this sandwich</td>\n",
       "      <td>pos</td>\n",
       "    </tr>\n",
       "    <tr>\n",
       "      <th>1</th>\n",
       "      <td>this is an amazing place</td>\n",
       "      <td>pos</td>\n",
       "    </tr>\n",
       "    <tr>\n",
       "      <th>2</th>\n",
       "      <td>I feel very good about these beers</td>\n",
       "      <td>pos</td>\n",
       "    </tr>\n",
       "    <tr>\n",
       "      <th>3</th>\n",
       "      <td>this is my best work</td>\n",
       "      <td>pos</td>\n",
       "    </tr>\n",
       "    <tr>\n",
       "      <th>4</th>\n",
       "      <td>what an awesome view</td>\n",
       "      <td>pos</td>\n",
       "    </tr>\n",
       "    <tr>\n",
       "      <th>5</th>\n",
       "      <td>I do not like this restaurant</td>\n",
       "      <td>neg</td>\n",
       "    </tr>\n",
       "    <tr>\n",
       "      <th>6</th>\n",
       "      <td>I am tired of this stuff</td>\n",
       "      <td>neg</td>\n",
       "    </tr>\n",
       "    <tr>\n",
       "      <th>7</th>\n",
       "      <td>I can't deal with this</td>\n",
       "      <td>neg</td>\n",
       "    </tr>\n",
       "    <tr>\n",
       "      <th>8</th>\n",
       "      <td>he is my sworn enemy</td>\n",
       "      <td>neg</td>\n",
       "    </tr>\n",
       "    <tr>\n",
       "      <th>9</th>\n",
       "      <td>my boss is horrible</td>\n",
       "      <td>neg</td>\n",
       "    </tr>\n",
       "    <tr>\n",
       "      <th>10</th>\n",
       "      <td>this is an awesome place</td>\n",
       "      <td>pos</td>\n",
       "    </tr>\n",
       "    <tr>\n",
       "      <th>11</th>\n",
       "      <td>I donot like the taste of this juice</td>\n",
       "      <td>neg</td>\n",
       "    </tr>\n",
       "    <tr>\n",
       "      <th>12</th>\n",
       "      <td>I love to dance</td>\n",
       "      <td>pos</td>\n",
       "    </tr>\n",
       "    <tr>\n",
       "      <th>13</th>\n",
       "      <td>I am sick and tired of this place</td>\n",
       "      <td>neg</td>\n",
       "    </tr>\n",
       "    <tr>\n",
       "      <th>14</th>\n",
       "      <td>what a great holiday</td>\n",
       "      <td>pos</td>\n",
       "    </tr>\n",
       "    <tr>\n",
       "      <th>15</th>\n",
       "      <td>that is a bad locality to stay</td>\n",
       "      <td>neg</td>\n",
       "    </tr>\n",
       "    <tr>\n",
       "      <th>16</th>\n",
       "      <td>we will have good fun tomorrow</td>\n",
       "      <td>pos</td>\n",
       "    </tr>\n",
       "    <tr>\n",
       "      <th>17</th>\n",
       "      <td>I went to my enemy's house today</td>\n",
       "      <td>neg</td>\n",
       "    </tr>\n",
       "  </tbody>\n",
       "</table>\n",
       "</div>"
      ],
      "text/plain": [
       "                                 message label\n",
       "0                   I love this sandwich   pos\n",
       "1               this is an amazing place   pos\n",
       "2     I feel very good about these beers   pos\n",
       "3                   this is my best work   pos\n",
       "4                   what an awesome view   pos\n",
       "5          I do not like this restaurant   neg\n",
       "6               I am tired of this stuff   neg\n",
       "7                 I can't deal with this   neg\n",
       "8                   he is my sworn enemy   neg\n",
       "9                    my boss is horrible   neg\n",
       "10              this is an awesome place   pos\n",
       "11  I donot like the taste of this juice   neg\n",
       "12                       I love to dance   pos\n",
       "13     I am sick and tired of this place   neg\n",
       "14                  what a great holiday   pos\n",
       "15        that is a bad locality to stay   neg\n",
       "16        we will have good fun tomorrow   pos\n",
       "17      I went to my enemy's house today   neg"
      ]
     },
     "execution_count": 14,
     "metadata": {},
     "output_type": "execute_result"
    }
   ],
   "source": [
    "df=pd.read_csv(\"C:\\\\Users\\\\LENOVO\\\\Downloads\\\\text_classification.csv\")\n",
    "df"
   ]
  },
  {
   "cell_type": "code",
   "execution_count": 15,
   "id": "b7106694",
   "metadata": {},
   "outputs": [],
   "source": [
    "df['class']=df['label'].map({'pos':1,'neg':0})\n",
    "x=df['message']\n",
    "y=df['class']"
   ]
  },
  {
   "cell_type": "code",
   "execution_count": 16,
   "id": "3c6a98c4",
   "metadata": {},
   "outputs": [],
   "source": [
    "xtrain,xtest,ytrain,ytest=train_test_split(x,y,test_size=0.3)"
   ]
  },
  {
   "cell_type": "code",
   "execution_count": 17,
   "id": "fbf3e5ff",
   "metadata": {},
   "outputs": [],
   "source": [
    "k=CountVectorizer()\n",
    "xtrain=k.fit_transform(xtrain)\n",
    "xtest=k.transform(xtest)"
   ]
  },
  {
   "cell_type": "code",
   "execution_count": 18,
   "id": "1936f1ec",
   "metadata": {},
   "outputs": [],
   "source": [
    "m=MultinomialNB()\n",
    "m.fit(xtrain,ytrain)\n",
    "p=m.predict(xtest)"
   ]
  },
  {
   "cell_type": "code",
   "execution_count": 19,
   "id": "3466182b",
   "metadata": {},
   "outputs": [
    {
     "name": "stdout",
     "output_type": "stream",
     "text": [
      "accuracy is: 0.5\n"
     ]
    }
   ],
   "source": [
    "#acuracy\n",
    "print(\"accuracy is:\",metrics.accuracy_score(p,ytest))"
   ]
  },
  {
   "cell_type": "code",
   "execution_count": 20,
   "id": "6f35405e",
   "metadata": {},
   "outputs": [
    {
     "name": "stdout",
     "output_type": "stream",
     "text": [
      "precision score is: 1.0\n"
     ]
    }
   ],
   "source": [
    "#precision\n",
    "print(\"precision score is:\",metrics.precision_score(p,ytest))"
   ]
  },
  {
   "cell_type": "code",
   "execution_count": 21,
   "id": "3dc77691",
   "metadata": {},
   "outputs": [
    {
     "name": "stdout",
     "output_type": "stream",
     "text": [
      "recall score is: 0.4\n"
     ]
    }
   ],
   "source": [
    "#recall_score\n",
    "print(\"recall score is:\",metrics.recall_score(p,ytest))"
   ]
  },
  {
   "cell_type": "code",
   "execution_count": 22,
   "id": "00831e98",
   "metadata": {},
   "outputs": [
    {
     "name": "stdout",
     "output_type": "stream",
     "text": [
      "confusion matrix is: [[1 0]\n",
      " [3 2]]\n"
     ]
    }
   ],
   "source": [
    "#confusion matrix\n",
    "print(\"confusion matrix is:\",metrics.confusion_matrix(p,ytest))"
   ]
  }
 ],
 "metadata": {
  "kernelspec": {
   "display_name": "Python 3 (ipykernel)",
   "language": "python",
   "name": "python3"
  },
  "language_info": {
   "codemirror_mode": {
    "name": "ipython",
    "version": 3
   },
   "file_extension": ".py",
   "mimetype": "text/x-python",
   "name": "python",
   "nbconvert_exporter": "python",
   "pygments_lexer": "ipython3",
   "version": "3.10.9"
  }
 },
 "nbformat": 4,
 "nbformat_minor": 5
}
