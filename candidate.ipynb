{
 "cells": [
  {
   "cell_type": "code",
   "execution_count": 1,
   "id": "397583ef",
   "metadata": {},
   "outputs": [
    {
     "data": {
      "text/html": [
       "<div>\n",
       "<style scoped>\n",
       "    .dataframe tbody tr th:only-of-type {\n",
       "        vertical-align: middle;\n",
       "    }\n",
       "\n",
       "    .dataframe tbody tr th {\n",
       "        vertical-align: top;\n",
       "    }\n",
       "\n",
       "    .dataframe thead th {\n",
       "        text-align: right;\n",
       "    }\n",
       "</style>\n",
       "<table border=\"1\" class=\"dataframe\">\n",
       "  <thead>\n",
       "    <tr style=\"text-align: right;\">\n",
       "      <th></th>\n",
       "      <th>Outlook</th>\n",
       "      <th>Temperature</th>\n",
       "      <th>Humidity</th>\n",
       "      <th>Wind</th>\n",
       "      <th>Water</th>\n",
       "      <th>Forecast</th>\n",
       "      <th>EnjoySport</th>\n",
       "    </tr>\n",
       "  </thead>\n",
       "  <tbody>\n",
       "    <tr>\n",
       "      <th>0</th>\n",
       "      <td>Sunny</td>\n",
       "      <td>Warm</td>\n",
       "      <td>Normal</td>\n",
       "      <td>Strong</td>\n",
       "      <td>Warm</td>\n",
       "      <td>Same</td>\n",
       "      <td>YES</td>\n",
       "    </tr>\n",
       "    <tr>\n",
       "      <th>1</th>\n",
       "      <td>Sunny</td>\n",
       "      <td>Warm</td>\n",
       "      <td>High</td>\n",
       "      <td>Strong</td>\n",
       "      <td>Warm</td>\n",
       "      <td>Same</td>\n",
       "      <td>YES</td>\n",
       "    </tr>\n",
       "    <tr>\n",
       "      <th>2</th>\n",
       "      <td>Rainy</td>\n",
       "      <td>Cold</td>\n",
       "      <td>High</td>\n",
       "      <td>Strong</td>\n",
       "      <td>Warm</td>\n",
       "      <td>Change</td>\n",
       "      <td>NO</td>\n",
       "    </tr>\n",
       "    <tr>\n",
       "      <th>3</th>\n",
       "      <td>Sunny</td>\n",
       "      <td>Warm</td>\n",
       "      <td>High</td>\n",
       "      <td>Strong</td>\n",
       "      <td>Cool</td>\n",
       "      <td>Change</td>\n",
       "      <td>YES</td>\n",
       "    </tr>\n",
       "  </tbody>\n",
       "</table>\n",
       "</div>"
      ],
      "text/plain": [
       "  Outlook Temperature Humidity    Wind Water Forecast EnjoySport\n",
       "0   Sunny        Warm   Normal  Strong  Warm     Same        YES\n",
       "1   Sunny        Warm     High  Strong  Warm     Same        YES\n",
       "2   Rainy        Cold     High  Strong  Warm   Change         NO\n",
       "3   Sunny        Warm     High  Strong  Cool   Change        YES"
      ]
     },
     "execution_count": 1,
     "metadata": {},
     "output_type": "execute_result"
    }
   ],
   "source": [
    "import pandas as pd\n",
    "import numpy as np\n",
    "df=pd.read_csv(\"C:\\\\Users\\\\LENOVO\\\\Downloads\\\\ws.csv\")\n",
    "df"
   ]
  },
  {
   "cell_type": "code",
   "execution_count": 2,
   "id": "a4ec56a6",
   "metadata": {},
   "outputs": [],
   "source": [
    "def specified(s,p):\n",
    "  if 'pi' in s:\n",
    "    for j in range(len(s)):\n",
    "      s[j]=p[j]\n",
    "  else:\n",
    "    for j in range(len(s)):\n",
    "      if s[j]!=p[j]:\n",
    "        s[j]='?'\n",
    "  return s"
   ]
  },
  {
   "cell_type": "code",
   "execution_count": 3,
   "id": "8c8706aa",
   "metadata": {},
   "outputs": [],
   "source": [
    "def accept(l,df):\n",
    "  for j in range(len(df)):\n",
    "    if df.iloc[j,-1]=='YES':\n",
    "      for k in range(len(l)):\n",
    "        if l[k]!='?' and df.iloc[j,k]!=l[k]:\n",
    "          return 0\n",
    "    else:\n",
    "      c=0\n",
    "      for k in range(len(l)):\n",
    "        if l[k]=='?' or df.iloc[j,k]==l[k]:\n",
    "          c=c+1\n",
    "      if c==len(l):\n",
    "        return 0\n",
    "  return 1"
   ]
  },
  {
   "cell_type": "code",
   "execution_count": 4,
   "id": "a9ec9695",
   "metadata": {},
   "outputs": [],
   "source": [
    "def generalised(df,i):\n",
    "  g1=[]\n",
    "  for j in range(len(df.columns)-1):\n",
    "    m=list(np.unique(df[df.columns[j]]))\n",
    "    m.remove(df.iloc[i,j])\n",
    "    l=['?']*(len(df.columns)-1)\n",
    "    for k in m:\n",
    "      l[j]=k\n",
    "      if accept(l,df):\n",
    "        g1.append(l)\n",
    "  return g1"
   ]
  },
  {
   "cell_type": "code",
   "execution_count": 5,
   "id": "b75dc231",
   "metadata": {},
   "outputs": [],
   "source": [
    "def learned(s,df,g):\n",
    "  lvs=[]\n",
    "  for i in range(len(g)):\n",
    "    for j in range(len(s)):\n",
    "      l=g[i].copy()\n",
    "      if g[i][j]=='?' and s[j]!='?':\n",
    "          l[j]=s[j]\n",
    "          if accept(l,df) and l not in g and l not in lvs:\n",
    "            lvs.append(l)\n",
    "  return lvs"
   ]
  },
  {
   "cell_type": "code",
   "execution_count": 6,
   "id": "1f571817",
   "metadata": {},
   "outputs": [],
   "source": [
    "def candidate(df):\n",
    "  s=['pi']*(len(df.columns)-1)\n",
    "  g=[]\n",
    "  for i in range(len(df)):\n",
    "    if df.iloc[i,-1]=='YES':\n",
    "      s=specified(s,df.iloc[i])\n",
    "    else:\n",
    "      g.extend(generalised(df,i))\n",
    "  if len(g)!=0:\n",
    "    lvs=learned(s,df,g)\n",
    "    print(s,'\\n',g,'\\n',lvs)\n",
    "  else:\n",
    "    print(s)"
   ]
  },
  {
   "cell_type": "code",
   "execution_count": 7,
   "id": "9f925322",
   "metadata": {},
   "outputs": [
    {
     "name": "stdout",
     "output_type": "stream",
     "text": [
      "['Sunny', 'Warm', '?', 'Strong', '?', '?'] \n",
      " [['Sunny', '?', '?', '?', '?', '?'], ['?', 'Warm', '?', '?', '?', '?']] \n",
      " [['Sunny', 'Warm', '?', '?', '?', '?'], ['Sunny', '?', '?', 'Strong', '?', '?'], ['?', 'Warm', '?', 'Strong', '?', '?']]\n"
     ]
    }
   ],
   "source": [
    "candidate(df)"
   ]
  }
 ],
 "metadata": {
  "kernelspec": {
   "display_name": "Python 3 (ipykernel)",
   "language": "python",
   "name": "python3"
  },
  "language_info": {
   "codemirror_mode": {
    "name": "ipython",
    "version": 3
   },
   "file_extension": ".py",
   "mimetype": "text/x-python",
   "name": "python",
   "nbconvert_exporter": "python",
   "pygments_lexer": "ipython3",
   "version": "3.10.9"
  }
 },
 "nbformat": 4,
 "nbformat_minor": 5
}
